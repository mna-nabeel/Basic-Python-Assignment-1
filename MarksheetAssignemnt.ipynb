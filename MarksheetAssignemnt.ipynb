{
 "cells": [
  {
   "cell_type": "code",
   "execution_count": 1,
   "metadata": {
    "scrolled": true
   },
   "outputs": [
    {
     "name": "stdout",
     "output_type": "stream",
     "text": [
      "-♦-♦-♦-♦-♦-♦-♦-♦-♦-♦-♦-♦-♦-♦-♦-♦-MARKSHEET-♦-♦-♦-♦-♦-♦-♦-♦-♦-♦-♦-♦-♦-♦-♦-♦-♦-♦-♦-\n",
      "Student Name : Muhammad Nabeel Ali\n",
      "Father Name : Muhammad Ali\n",
      "Roll No. : 2017-CE-082\n",
      "Department : Computer Engineering\n",
      "Semester : 6th\n",
      "English : 76\n",
      "Discrete Math : 80\n",
      "Data Structure : 70\n",
      "Software Engineering : 85\n",
      "Digital System Design : 91\n",
      "marksheet succesfully saved!\n"
     ]
    }
   ],
   "source": [
    "print(\"-♦-♦-♦-♦-♦-♦-♦-♦-♦-♦-♦-♦-♦-♦-♦-♦-MARKSHEET-♦-♦-♦-♦-♦-♦-♦-♦-♦-♦-♦-♦-♦-♦-♦-♦-♦-♦-♦-\")\n",
    "student_name = str(input (\"Student Name : \"))\n",
    "father_name = str(input (\"Father Name : \"))\n",
    "rollno = str(input (\"Roll No. : \"))\n",
    "department = str(input (\"Department : \"))\n",
    "semester = str(input (\"Semester : \"))\n",
    "english = int(input (\"English : \"))\n",
    "discret_math = int(input (\"Discrete Math : \"))\n",
    "datastruc= int(input (\"Data Structure : \"))\n",
    "softeng = int(input (\"Software Engineering : \"))\n",
    "dsd = int(input (\"Digital System Design : \"))\n",
    "text = \"Student Name : \"+student_name\n",
    "text += \"\\nFather Name : \"+father_name\n",
    "text +=\"\\nRoll No : \"+rollno\n",
    "text +=\"\\nDepartment : \"+department\n",
    "text +=\"\\nSemester : \"+semester\n",
    "text +=\"\\n\\n\\nSUBJECT                      TOTAL MARKS                         OBTAINED MARKS\"\n",
    "text +=\"\\n-----------------------------------------------------------------------------------\"\n",
    "text +=\"\\nEnglish                           100                                \"+str(english)\n",
    "text +=\"\\nDiscrete Math                     100                                \"+str(discret_math)\n",
    "text +=\"\\nData Structure                    100                                \"+str(datastruc)\n",
    "text +=\"\\nSoftware Engineering              100                                \"+str(softeng)\n",
    "text +=\"\\nDigital System Design             100                                \"+str(dsd)\n",
    "total_obtain_marks = english + discret_math + datastruc + softeng + dsd\n",
    "percentage = (total_obtain_marks*100)/500 \n",
    "text +=\"\\n\\nTotal Obtained Marks = \"+ str(total_obtain_marks)\n",
    "text +=\"\\nPercentage = \"+str(percentage)\n",
    "if 90 <= percentage <=100:\n",
    "    text +=\"\\nGrade : A1+\"\n",
    "elif 80 <= percentage <90:\n",
    "    text +=\"\\nGrade : A1\"\n",
    "elif 70 <= percentage <80:\n",
    "    text +=\"\\nGrade : A\"\n",
    "elif 60 <= percentage <70:\n",
    "    text +=\"\\nGrade : B\"\n",
    "elif 50 <= percentage <60:\n",
    "    text +=\"\\nGrade : C\"\n",
    "else:\n",
    "    text +=\"\\nFAILED!\"\n",
    "\n",
    "#saving to txt file\n",
    "with open(\"marksheetText.txt\", \"w\") as f:\n",
    "    f.write(text)\n",
    "print(\"marksheet succesfully saved!\")"
   ]
  },
  {
   "cell_type": "markdown",
   "metadata": {},
   "source": []
  },
  {
   "cell_type": "code",
   "execution_count": null,
   "metadata": {},
   "outputs": [],
   "source": []
  },
  {
   "cell_type": "code",
   "execution_count": null,
   "metadata": {},
   "outputs": [],
   "source": []
  }
 ],
 "metadata": {
  "kernelspec": {
   "display_name": "Python 3",
   "language": "python",
   "name": "python3"
  },
  "language_info": {
   "codemirror_mode": {
    "name": "ipython",
    "version": 3
   },
   "file_extension": ".py",
   "mimetype": "text/x-python",
   "name": "python",
   "nbconvert_exporter": "python",
   "pygments_lexer": "ipython3",
   "version": "3.7.3"
  }
 },
 "nbformat": 4,
 "nbformat_minor": 2
}
